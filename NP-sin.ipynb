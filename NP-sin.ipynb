{
 "cells": [
  {
   "cell_type": "code",
   "execution_count": 1,
   "metadata": {},
   "outputs": [],
   "source": [
    "%matplotlib inline\n",
    "\n",
    "#visualizations\n",
    "import matplotlib \n",
    "import matplotlib.pylab as plt\n",
    "#core imports\n",
    "import numpy as np\n",
    "\n",
    "\n",
    "#NN\n",
    "import tensorflow as tf"
   ]
  },
  {
   "cell_type": "code",
   "execution_count": 2,
   "metadata": {},
   "outputs": [],
   "source": [
    "#GP\n",
    "from sklearn.gaussian_process import GaussianProcessRegressor\n",
    "from sklearn.gaussian_process.kernels import RBF, ConstantKernel as C"
   ]
  },
  {
   "cell_type": "code",
   "execution_count": 3,
   "metadata": {},
   "outputs": [],
   "source": [
    "#NP\n",
    "from npfunc import get_z_params, loglikelihood1, loglikelihood2, KLqp_gauss\n",
    "from npfunc import map_xy_to_z_params, posterior_predict, init_NP"
   ]
  },
  {
   "cell_type": "markdown",
   "metadata": {},
   "source": [
    "## Generate data"
   ]
  },
  {
   "cell_type": "code",
   "execution_count": 4,
   "metadata": {},
   "outputs": [],
   "source": [
    "def f(x):\n",
    "    \"\"\"The function to predict.\"\"\"\n",
    "    #return x * np.sin(x)\n",
    "    return np.sin(x)"
   ]
  },
  {
   "cell_type": "code",
   "execution_count": 5,
   "metadata": {},
   "outputs": [],
   "source": [
    "#range for predictions and true values\n",
    "x_t = np.atleast_2d(np.linspace(-6, 6, 100)).T.astype(np.float32)\n",
    "y_t = f(x_t).astype(np.float32)"
   ]
  },
  {
   "cell_type": "code",
   "execution_count": 6,
   "metadata": {},
   "outputs": [],
   "source": [
    "#training set \n",
    "x_test = np.array([[-2], [-1], [0], [1], [2]])\n",
    "y_test = f(x_test)"
   ]
  },
  {
   "cell_type": "markdown",
   "metadata": {},
   "source": [
    "## Fit with GP"
   ]
  },
  {
   "cell_type": "code",
   "execution_count": 7,
   "metadata": {},
   "outputs": [],
   "source": [
    "#fit with a GP\n",
    "kernel = C(1.0, (1e-3, 1e3)) * RBF(10, (1e-2, 1e2))\n",
    "gp = GaussianProcessRegressor(kernel=kernel, n_restarts_optimizer=9)\n",
    "gp.fit(x_test, y_test)\n",
    "y_pred, sigma = gp.predict(x_t, return_std=True)"
   ]
  },
  {
   "cell_type": "code",
   "execution_count": 8,
   "metadata": {},
   "outputs": [
    {
     "data": {
      "text/plain": [
       "<matplotlib.legend.Legend at 0x1cd5721a6d8>"
      ]
     },
     "execution_count": 8,
     "metadata": {},
     "output_type": "execute_result"
    },
    {
     "data": {
      "image/png": "[encoded data removed]",
      "text/plain": [
       "<Figure size 432x288 with 1 Axes>"
      ]
     },
     "metadata": {},
     "output_type": "display_data"
    }
   ],
   "source": [
    "fig = plt.figure()\n",
    "plt.plot(x_t, f(x_t), 'r:', label=u'$f(x) = x\\,\\sin(x)$')\n",
    "plt.plot(x_test, y_test[:,0], 'r.', markersize=10, label=u'Observations')\n",
    "plt.plot(x_t, y_pred[:,0], 'b-', label=u'Prediction')\n",
    "plt.fill(np.concatenate([x_t, x_t[::-1]]),\n",
    "         np.concatenate([y_pred[:,0] - 1.9600 * sigma,\n",
    "                        (y_pred[:,0] + 1.9600 * sigma)[::-1]]),\n",
    "         alpha=.5, fc='b', ec='None', label='95% confidence interval')\n",
    "plt.xlabel('$x$')\n",
    "plt.ylabel('$f(x)$')\n",
    "plt.ylim(-2, 3)\n",
    "plt.legend(loc='upper left')"
   ]
  },
  {
   "cell_type": "markdown",
   "metadata": {},
   "source": [
    "## Fit with NP"
   ]
  },
  {
   "cell_type": "code",
   "execution_count": 9,
   "metadata": {},
   "outputs": [],
   "source": [
    "#network parameters\n",
    "dim_r = 2\n",
    "dim_z = 2\n",
    "dim_h_hidden = 8\n",
    "dim_g_hidden = 8"
   ]
  },
  {
   "cell_type": "code",
   "execution_count": 10,
   "metadata": {},
   "outputs": [],
   "source": [
    "#create placeholders for the data\n",
    "x_context = tf.placeholder(tf.float32, shape=(None, 1))\n",
    "y_context = tf.placeholder(tf.float32, shape=(None, 1))\n",
    "x_target = tf.placeholder(tf.float32, shape=(None, 1))\n",
    "y_target = tf.placeholder(tf.float32, shape=(None, 1))"
   ]
  },
  {
   "cell_type": "code",
   "execution_count": 11,
   "metadata": {},
   "outputs": [],
   "source": [
    "#initialize \n",
    "train_op_and_loss = init_NP(x_context, y_context, x_target, y_target, dim_h_hidden, dim_g_hidden, dim_r, dim_z, 0.001)"
   ]
  },
  {
   "cell_type": "code",
   "execution_count": 12,
   "metadata": {},
   "outputs": [],
   "source": [
    "init = tf.global_variables_initializer()"
   ]
  },
  {
   "cell_type": "code",
   "execution_count": 13,
   "metadata": {},
   "outputs": [],
   "source": [
    "sess = tf.InteractiveSession()"
   ]
  },
  {
   "cell_type": "code",
   "execution_count": 14,
   "metadata": {},
   "outputs": [],
   "source": [
    "sess.run(init)"
   ]
  },
  {
   "cell_type": "code",
   "execution_count": 15,
   "metadata": {},
   "outputs": [],
   "source": [
    "n_iter = 10000\n",
    "save_freq = 500\n",
    "\n",
    "n_draws = 50\n",
    "eps_value = np.random.randn(n_draws, dim_r)\n",
    "epsilon = tf.constant(eps_value, dtype=tf.float32)\n",
    "\n",
    "\n",
    "predict_op = posterior_predict(x_test, y_test, x_t, dim_h_hidden, dim_g_hidden, dim_r, dim_z, epsilon, 1)\n",
    "\n",
    "y_hist = np.zeros(shape=(n_iter//save_freq, x_t.shape[0], n_draws))\n",
    "hist_i = 0"
   ]
  },
  {
   "cell_type": "code",
   "execution_count": 16,
   "metadata": {},
   "outputs": [
    {
     "name": "stdout",
     "output_type": "stream",
     "text": [
      "0 169.39076\n",
      "500 22.459192\n",
      "1000 20.851784\n",
      "1500 20.248453\n",
      "2000 18.745691\n",
      "2500 16.358562\n",
      "3000 13.694395\n",
      "3500 8.745215\n",
      "4000 4.4704776\n",
      "4500 2.2279563\n",
      "5000 1.3087807\n",
      "5500 1.0214616\n",
      "6000 0.94039005\n",
      "6500 0.9122543\n",
      "7000 0.8741502\n",
      "7500 0.818759\n",
      "8000 0.77137643\n",
      "8500 0.5877009\n",
      "9000 0.33315644\n",
      "9500 0.17166145\n"
     ]
    }
   ],
   "source": [
    "for i in range(n_iter):\n",
    "\n",
    "    #choose a random number of points from training set \n",
    "    N = np.random.randint(1, x_test.shape[0])\n",
    "    x_c_id = np.random.randint(1, x_test.shape[0], size=N)\n",
    "    x_c = x_test[x_c_id, :]\n",
    "    y_c = y_test[x_c_id, :]\n",
    "\n",
    "\n",
    "    a = sess.run(train_op_and_loss, feed_dict={x_context: x_c, y_context: y_c, x_target:x_t, y_target:y_t})\n",
    "\n",
    "    if(i % save_freq == 0):\n",
    "        \n",
    "        print(i, a[1])\n",
    "        y_star_mat = sess.run(predict_op)\n",
    "        y_hist[hist_i] = y_star_mat[0]\n",
    "        hist_i += 1"
   ]
  },
  {
   "cell_type": "code",
   "execution_count": 19,
   "metadata": {},
   "outputs": [
    {
     "data": {
      "text/plain": [
       "<matplotlib.legend.Legend at 0x1cd789bbc88>"
      ]
     },
     "execution_count": 19,
     "metadata": {},
     "output_type": "execute_result"
    },
    {
     "data": {
      "image/png": "[encoded data removed]",
      "text/plain": [
       "<Figure size 432x288 with 1 Axes>"
      ]
     },
     "metadata": {},
     "output_type": "display_data"
    }
   ],
   "source": [
    "fig = plt.figure()\n",
    "plt.plot(x_t, f(x_t), 'r:', label=u'$f(x) = \\sin(x)$')\n",
    "plt.plot(x_test, y_test[:,0], 'r.', markersize=10, label=u'Observations')\n",
    "for i in range(50):\n",
    "    plt.plot(x_t, y_star_mat[0][:, i], 'b-')\n",
    "plt.xlabel('$x$')\n",
    "plt.ylabel('$f(x)$')\n",
    "plt.ylim(-2, 3)\n",
    "plt.legend(loc='upper left')"
   ]
  },
  {
   "cell_type": "code",
   "execution_count": 18,
   "metadata": {},
   "outputs": [],
   "source": [
    "sess.close()"
   ]
  },
  {
   "cell_type": "code",
   "execution_count": null,
   "metadata": {},
   "outputs": [],
   "source": []
  }
 ],
 "metadata": {
  "kernelspec": {
   "display_name": "Python 3",
   "language": "python",
   "name": "python3"
  },
  "language_info": {
   "codemirror_mode": {
    "name": "ipython",
    "version": 3
   },
   "file_extension": ".py",
   "mimetype": "text/x-python",
   "name": "python",
   "nbconvert_exporter": "python",
   "pygments_lexer": "ipython3",
   "version": "3.6.6"
  }
 },
 "nbformat": 4,
 "nbformat_minor": 2
}
